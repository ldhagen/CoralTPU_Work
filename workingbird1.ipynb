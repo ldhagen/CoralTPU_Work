{
 "cells": [
  {
   "cell_type": "code",
   "execution_count": null,
   "id": "f928eda8-6359-4905-80de-55defd97a761",
   "metadata": {},
   "outputs": [],
   "source": [
    "!ls"
   ]
  },
  {
   "cell_type": "code",
   "execution_count": null,
   "id": "e7824b60-28d1-4714-83d0-bcd42642ef02",
   "metadata": {},
   "outputs": [],
   "source": [
    "!bash examples/install_requirements.sh classify_image.py"
   ]
  },
  {
   "cell_type": "code",
   "execution_count": null,
   "id": "dadd448f-3194-410a-ad33-8dfaf1eed87a",
   "metadata": {},
   "outputs": [],
   "source": [
    "!python3 examples/classify_image.py \\\n",
    "--model test_data/mobilenet_v2_1.0_224_inat_bird_quant_edgetpu.tflite \\\n",
    "--labels test_data/inat_bird_labels.txt \\\n",
    "--input test_data/parrot.jpg"
   ]
  },
  {
   "cell_type": "code",
   "execution_count": null,
   "id": "ba8e009b-f166-4126-a095-6d6180b9ec34",
   "metadata": {},
   "outputs": [],
   "source": [
    "!cat examples/install_requirements.sh"
   ]
  },
  {
   "cell_type": "code",
   "execution_count": null,
   "id": "28e4d8b8-55f8-4827-8efc-adba753d1d27",
   "metadata": {},
   "outputs": [],
   "source": [
    "!ls test_data/\n"
   ]
  },
  {
   "cell_type": "code",
   "execution_count": null,
   "id": "6450e7eb-6814-4b6c-94d8-284bd6326837",
   "metadata": {
    "scrolled": true
   },
   "outputs": [],
   "source": [
    "!cat test_data/inat_bird_labels.txt"
   ]
  },
  {
   "cell_type": "code",
   "execution_count": null,
   "id": "a0dafabf-543f-4caf-8017-b29af58e8720",
   "metadata": {},
   "outputs": [],
   "source": [
    "!wget https://raw.githubusercontent.com/google-coral/test_data/master/bird.bmp\n"
   ]
  },
  {
   "cell_type": "code",
   "execution_count": null,
   "id": "0dd58974-a0c9-4529-b4d6-c4e33dd0390a",
   "metadata": {},
   "outputs": [],
   "source": [
    "!ls"
   ]
  },
  {
   "cell_type": "code",
   "execution_count": null,
   "id": "dc6000c2-981a-4052-ac6d-c4aefa1b69bf",
   "metadata": {},
   "outputs": [],
   "source": [
    "!pwd"
   ]
  },
  {
   "cell_type": "code",
   "execution_count": null,
   "id": "2eeee2c5-8b61-48a0-ab8c-10174543e4ab",
   "metadata": {},
   "outputs": [],
   "source": []
  },
  {
   "cell_type": "code",
   "execution_count": null,
   "id": "f7d96534-2058-4aea-bd42-9a8fabc2a3b1",
   "metadata": {},
   "outputs": [],
   "source": [
    "!python3 examples/classify_image.py \\\n",
    "--model test_data/mobilenet_v2_1.0_224_inat_bird_quant_edgetpu.tflite \\\n",
    "--labels test_data/inat_bird_labels.txt \\\n",
    "--input bird.bmp"
   ]
  },
  {
   "cell_type": "code",
   "execution_count": null,
   "id": "8046fa0d-3cf9-4010-87e0-9830eda8fbdd",
   "metadata": {},
   "outputs": [],
   "source": [
    "from PIL import Image\n",
    "from PIL import ImageDraw"
   ]
  },
  {
   "cell_type": "code",
   "execution_count": null,
   "id": "99ec21ef-001a-41e1-8a59-6cd727db689d",
   "metadata": {},
   "outputs": [],
   "source": []
  },
  {
   "cell_type": "code",
   "execution_count": null,
   "id": "f00f10e9-3346-445c-a436-e56bd72210ad",
   "metadata": {},
   "outputs": [],
   "source": [
    "img = Image.open('bird.bmp.3')"
   ]
  },
  {
   "cell_type": "code",
   "execution_count": null,
   "id": "e2364981-7cb7-44f4-a843-3a269489b80a",
   "metadata": {},
   "outputs": [],
   "source": [
    "draw = ImageDraw.Draw(img)"
   ]
  },
  {
   "cell_type": "code",
   "execution_count": null,
   "id": "9b1e2c0c-c9be-4684-84ef-03d1e06077f7",
   "metadata": {},
   "outputs": [],
   "source": [
    "draw.draw"
   ]
  },
  {
   "cell_type": "code",
   "execution_count": null,
   "id": "9e735b83-ceac-4793-93e4-679e3f47ed69",
   "metadata": {},
   "outputs": [],
   "source": [
    "from IPython.display import display\n",
    "import PIL.Image as Image"
   ]
  },
  {
   "cell_type": "code",
   "execution_count": null,
   "id": "765a4393-cab6-44d8-9d53-60d83de1135d",
   "metadata": {},
   "outputs": [],
   "source": [
    "display(img)"
   ]
  },
  {
   "cell_type": "code",
   "execution_count": null,
   "id": "d708f08f-3850-4e02-8fdf-689fc7288d92",
   "metadata": {},
   "outputs": [],
   "source": [
    "!wget https://www.allaboutbirds.org/guide/assets/photo/297087301-720px.jpg"
   ]
  },
  {
   "cell_type": "code",
   "execution_count": null,
   "id": "eaefc87f-5784-4be9-b97d-beeb6b33ca32",
   "metadata": {},
   "outputs": [],
   "source": [
    "mv '297087301-720px.jpg' cardinal.jpg"
   ]
  },
  {
   "cell_type": "code",
   "execution_count": null,
   "id": "6023f410-c031-471b-939e-574b3da28678",
   "metadata": {},
   "outputs": [],
   "source": [
    "img = Image.open('cardinal.jpg')"
   ]
  },
  {
   "cell_type": "code",
   "execution_count": null,
   "id": "1cbba489-38ad-498a-aef8-5b3ffdb8f79f",
   "metadata": {},
   "outputs": [],
   "source": [
    "display(img)"
   ]
  },
  {
   "cell_type": "code",
   "execution_count": null,
   "id": "904a754d-950f-4938-bc0f-1de69b4e84fd",
   "metadata": {},
   "outputs": [],
   "source": [
    "!python3 examples/classify_image.py \\\n",
    "--model test_data/mobilenet_v2_1.0_224_inat_bird_quant_edgetpu.tflite \\\n",
    "--labels test_data/inat_bird_labels.txt \\\n",
    "--input cardinal.jpg"
   ]
  },
  {
   "cell_type": "code",
   "execution_count": null,
   "id": "c975c839-0d6b-45c1-bb6e-bf87922e5aae",
   "metadata": {},
   "outputs": [],
   "source": [
    "!wget https://www.allaboutbirds.org/guide/assets/photo/306105171-480px.jpg\n",
    "!mv 306105171-480px.jpg hawk.jpg"
   ]
  },
  {
   "cell_type": "code",
   "execution_count": null,
   "id": "0dc6e833-0159-424f-a8ec-6373f8993d78",
   "metadata": {},
   "outputs": [],
   "source": [
    "img = Image.open('hawk.jpg')"
   ]
  },
  {
   "cell_type": "code",
   "execution_count": null,
   "id": "82139cb9-1995-4a35-b3cc-d0278b0b8c3b",
   "metadata": {},
   "outputs": [],
   "source": [
    "display(img)"
   ]
  },
  {
   "cell_type": "code",
   "execution_count": null,
   "id": "0fea262e-7b62-49e1-b07c-ce6874772cae",
   "metadata": {},
   "outputs": [],
   "source": []
  },
  {
   "cell_type": "code",
   "execution_count": null,
   "id": "a0cb756e-3aff-4be9-81f9-ec32d5218f7b",
   "metadata": {},
   "outputs": [],
   "source": [
    "!python3 examples/classify_image.py \\\n",
    "--model test_data/mobilenet_v2_1.0_224_inat_bird_quant_edgetpu.tflite \\\n",
    "--labels test_data/inat_bird_labels.txt \\\n",
    "--input hawk.jpg"
   ]
  },
  {
   "cell_type": "code",
   "execution_count": null,
   "id": "ad774860-29bd-423f-a7f7-496f31e293d9",
   "metadata": {},
   "outputs": [],
   "source": [
    "!wget https://www.allaboutbirds.org/guide/assets/photo/297388681-1280px.jpg\n",
    "!mv 297388681-1280px.jpg owl.jpg\n",
    "img = Image.open('owl.jpg')\n",
    "display(img)"
   ]
  },
  {
   "cell_type": "code",
   "execution_count": null,
   "id": "bd804c86-0155-4bc0-8c5d-d39431a94404",
   "metadata": {},
   "outputs": [],
   "source": [
    "!python3 examples/classify_image.py \\\n",
    "--model test_data/mobilenet_v2_1.0_224_inat_bird_quant_edgetpu.tflite \\\n",
    "--labels test_data/inat_bird_labels.txt \\\n",
    "--input owl.jpg"
   ]
  },
  {
   "cell_type": "code",
   "execution_count": null,
   "id": "fa99c423-1ff4-4276-b9b8-198b4ab4b029",
   "metadata": {},
   "outputs": [],
   "source": []
  }
 ],
 "metadata": {
  "kernelspec": {
   "display_name": "Python 3 (ipykernel)",
   "language": "python",
   "name": "python3"
  },
  "language_info": {
   "codemirror_mode": {
    "name": "ipython",
    "version": 3
   },
   "file_extension": ".py",
   "mimetype": "text/x-python",
   "name": "python",
   "nbconvert_exporter": "python",
   "pygments_lexer": "ipython3",
   "version": "3.8.10"
  }
 },
 "nbformat": 4,
 "nbformat_minor": 5
}
